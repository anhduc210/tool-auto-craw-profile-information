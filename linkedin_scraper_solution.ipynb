{
 "cells": [
  {
   "cell_type": "code",
   "execution_count": 1,
   "metadata": {},
   "outputs": [
    {
     "name": "stdout",
     "output_type": "stream",
     "text": [
      "- Finish importing packages\n"
     ]
    }
   ],
   "source": [
    "# Import libraries and packages for the project \n",
    "\n",
    "from selenium import webdriver\n",
    "from selenium.webdriver.common.keys import Keys\n",
    "from bs4 import BeautifulSoup\n",
    "from time import sleep\n",
    "import csv\n",
    "\n",
    "print('- Finish importing packages')"
   ]
  },
  {
   "cell_type": "code",
   "execution_count": 2,
   "metadata": {},
   "outputs": [
    {
     "name": "stderr",
     "output_type": "stream",
     "text": [
      "C:\\Users\\ADMIN\\AppData\\Local\\Temp\\ipykernel_12832\\4068623922.py:4: DeprecationWarning: executable_path has been deprecated, please pass in a Service object\n",
      "  driver = webdriver.Chrome(\"C:\\chromedriver.exe\")\n",
      "C:\\Users\\ADMIN\\AppData\\Local\\Temp\\ipykernel_12832\\4068623922.py:20: DeprecationWarning: find_element_by_* commands are deprecated. Please use find_element() instead\n",
      "  email_field = driver.find_element_by_id('username')\n",
      "C:\\Users\\ADMIN\\AppData\\Local\\Temp\\ipykernel_12832\\4068623922.py:25: DeprecationWarning: find_element_by_name is deprecated. Please use find_element(by=By.NAME, value=name) instead\n",
      "  password_field = driver.find_element_by_name('session_password')\n",
      "C:\\Users\\ADMIN\\AppData\\Local\\Temp\\ipykernel_12832\\4068623922.py:31: DeprecationWarning: find_element_by_xpath is deprecated. Please use find_element(by=By.XPATH, value=xpath) instead\n",
      "  signin_field = driver.find_element_by_xpath('//*[@id=\"organic-div\"]/form/div[3]/button')\n"
     ]
    },
    {
     "name": "stdout",
     "output_type": "stream",
     "text": [
      "- Finish initializing a driver\n",
      "- Finish importing the login credentials\n",
      "- Finish keying in email\n",
      "- Finish keying in password\n",
      "- Finish Task 1: Login to Linkedin\n"
     ]
    }
   ],
   "source": [
    "# Task 1: Login to Linkedin\r\n",
    "\r\n",
    "# Task 1.1: Open Chrome and Access Linkedin login site\r\n",
    "driver = webdriver.Chrome(\"C:\\chromedriver.exe\")\r\n",
    "sleep(2)\r\n",
    "url = 'https://www.linkedin.com/login'\r\n",
    "driver.get(url)\r\n",
    "print('- Finish initializing a driver')\r\n",
    "sleep(2)\r\n",
    "\r\n",
    "# Task 1.2: Import username and password\r\n",
    "credential = open('credentials.txt')\r\n",
    "line = credential.readlines()\r\n",
    "username = line[0]\r\n",
    "password = line[1]\r\n",
    "print('- Finish importing the login credentials')\r\n",
    "sleep(2)\r\n",
    "\r\n",
    "# Task 1.2: Key in login credentials\r\n",
    "email_field = driver.find_element_by_id('username')\r\n",
    "email_field.send_keys(username)\r\n",
    "print('- Finish keying in email')\r\n",
    "sleep(3)\r\n",
    "\r\n",
    "password_field = driver.find_element_by_name('session_password')\r\n",
    "password_field.send_keys(password)\r\n",
    "print('- Finish keying in password')\r\n",
    "sleep(2)\r\n",
    "\r\n",
    "# Task 1.2: Click the Login button\r\n",
    "signin_field = driver.find_element_by_xpath('//*[@id=\"organic-div\"]/form/div[3]/button')\r\n",
    "signin_field.click()\r\n",
    "sleep(3)\r\n",
    "\r\n",
    "print('- Finish Task 1: Login to Linkedin')"
   ]
  },
  {
   "cell_type": "code",
   "execution_count": 5,
   "metadata": {},
   "outputs": [
    {
     "name": "stderr",
     "output_type": "stream",
     "text": [
      "C:\\Users\\ADMIN\\AppData\\Local\\Temp\\ipykernel_12832\\1197499062.py:6: DeprecationWarning: find_element_by_xpath is deprecated. Please use find_element(by=By.XPATH, value=xpath) instead\n",
      "  search_field = driver.find_element_by_xpath('//*[@id=\"global-nav-typeahead\"]/input')\n",
      "C:\\Users\\ADMIN\\AppData\\Local\\Temp\\ipykernel_12832\\1197499062.py:16: DeprecationWarning: find_element_by_xpath is deprecated. Please use find_element(by=By.XPATH, value=xpath) instead\n",
      "  search_method = driver.find_element_by_xpath('//*[@id=\"search-reusables__filters-bar\"]/ul/li[1]/button')\n"
     ]
    },
    {
     "name": "stdout",
     "output_type": "stream",
     "text": [
      "2.1 done\n",
      "2.2 done\n",
      "- Finish Task 2: Search for profiles\n"
     ]
    }
   ],
   "source": [
    "# Task 2: Search for the profile we want to crawl\r\n",
    "\r\n",
    "# Task 2.1: Locate the search bar element\r\n",
    "# search_kick = driver.find_element_by_xpath('//*[@id=\"global-nav-search\"]/div/button/li-icon/svg')\r\n",
    "# search_kick.click()\r\n",
    "search_field = driver.find_element_by_xpath('//*[@id=\"global-nav-typeahead\"]/input')\r\n",
    "search_field.click()\r\n",
    "print('2.1 done')\r\n",
    "# Task 2.2: Input the search query to the search bar\r\n",
    "# search_query = input('What profile do you want to scrape? ')\r\n",
    "search_field.send_keys(\"data enginer people\")\r\n",
    "print('2.2 done')\r\n",
    "# Task 2.3: Search\r\n",
    "search_field.send_keys(Keys.RETURN)\r\n",
    "sleep(3)\r\n",
    "search_method = driver.find_element_by_xpath('//*[@id=\"search-reusables__filters-bar\"]/ul/li[1]/button')\r\n",
    "search_method.click()\r\n",
    "print('- Finish Task 2: Search for profiles')"
   ]
  },
  {
   "cell_type": "code",
   "execution_count": 11,
   "metadata": {},
   "outputs": [
    {
     "name": "stdout",
     "output_type": "stream",
     "text": [
      "['https://www.linkedin.comhttps://www.linkedin.com/in/luutannguyen?miniProfileUrn=urn%3Ali%3Afs_miniProfile%3AACoAAB1ZpE4BRnVvfVJsBF9yNHafKWhl7AEYxdM', 'https://www.linkedin.comhttps://www.linkedin.com/in/longnguyennsu?miniProfileUrn=urn%3Ali%3Afs_miniProfile%3AACoAAAtSX8gB7R9gSXLiwQWOAArRsUA-gD34EDg', 'https://www.linkedin.comhttps://www.linkedin.com/in/tunglamnguyenba?miniProfileUrn=urn%3Ali%3Afs_miniProfile%3AACoAACawh8oB4KXMB8_vIvhC2aJb8mg0QrJGuQ0', 'https://www.linkedin.comhttps://www.linkedin.com/in/an-vu-395ab725?miniProfileUrn=urn%3Ali%3Afs_miniProfile%3AACoAAAVS9GEBCcSdcow6myRy8MPY-niDH7cdbxs', 'https://www.linkedin.comhttps://www.linkedin.com/in/thaophamphuong?miniProfileUrn=urn%3Ali%3Afs_miniProfile%3AACoAADA4vnABS3_ZscDjInUn6w_Eb705cJfdJGI', 'https://www.linkedin.comhttps://www.linkedin.com/in/steventinnguyen?miniProfileUrn=urn%3Ali%3Afs_miniProfile%3AACoAACRysboBsnbeuT38HC0kEYL7IKRprBj3HeI', 'https://www.linkedin.comhttps://www.linkedin.com/in/huy-do-2000?miniProfileUrn=urn%3Ali%3Afs_miniProfile%3AACoAADMwCnUB4lxXED65LgIchioYsS_xzS2Rz1w', 'https://www.linkedin.comhttps://www.linkedin.com/in/vinhdp?miniProfileUrn=urn%3Ali%3Afs_miniProfile%3AACoAACGIt6oBmbIBUiOo7J3YXnTPvZ2W0j-j7_0', 'https://www.linkedin.comhttps://www.linkedin.com/search/results/people/headless?origin=SWITCH_SEARCH_VERTICAL&keywords=data%20enginer%20people', 'https://www.linkedin.comhttps://www.linkedin.com/in/ph%E1%BA%A1m-ho%C3%A0ng-b%E1%BA%A3o-a64bb5138?miniProfileUrn=urn%3Ali%3Afs_miniProfile%3AACoAACGjJqwBSApKtYliK4zs-7PR5R24G5OHMNo']\n"
     ]
    }
   ],
   "source": [
    "# Task 3: Scrape the URLs of the profiles\r\n",
    "\r\n",
    "# Task 3.1: Write a function to extract the URLs of one page\r\n",
    "def GetURL():\r\n",
    "    page_source = BeautifulSoup(driver.page_source)\r\n",
    "    profiles = page_source.find_all('a', class_ = 'app-aware-link')\r\n",
    "    all_profile_URL = []\r\n",
    "    for profile in profiles:\r\n",
    "        profile_ID = profile.get('href')\r\n",
    "        # \"https://www.linkedin.com\"\r\n",
    "        profile_URL =  profile_ID\r\n",
    "        if profile_URL not in all_profile_URL:\r\n",
    "            # if profile_URL.endswith(\"i\",0,26) :\r\n",
    "               all_profile_URL.append(profile_URL)\r\n",
    "    return all_profile_URL\r\n",
    "print(GetURL())"
   ]
  },
  {
   "cell_type": "code",
   "execution_count": 8,
   "metadata": {},
   "outputs": [
    {
     "name": "stderr",
     "output_type": "stream",
     "text": [
      "C:\\Users\\ADMIN\\AppData\\Local\\Temp\\ipykernel_12832\\901287187.py:25: DeprecationWarning: find_element_by_class_name is deprecated. Please use find_element(by=By.CLASS_NAME, value=name) instead\n",
      "  next_button = driver.find_element_by_class_name(\"artdeco-pagination__button--next\")\n"
     ]
    },
    {
     "name": "stdout",
     "output_type": "stream",
     "text": [
      "- Finish Task 3: Scrape the URLs\n"
     ]
    }
   ],
   "source": [
    "# Task 3.2: Navigate through many page, and extract the profile URLs of each page\r\n",
    "\r\n",
    "input_page = int(input('How many pages you want to scrape: '))\r\n",
    "URLs_all_page = []\r\n",
    "for page in range(input_page):\r\n",
    "    URLs_one_page = GetURL()\r\n",
    "    sleep(2)\r\n",
    "    driver.execute_script('window.scrollTo(0, document.body.scrollHeight);') #scroll to the end of the page\r\n",
    "    sleep(3)\r\n",
    "    next_button = driver.find_element_by_class_name(\"artdeco-pagination__button--next\")\r\n",
    "    driver.execute_script(\"arguments[0].click();\", next_button)\r\n",
    "    URLs_all_page = URLs_all_page + URLs_one_page\r\n",
    "    sleep(2)\r\n",
    "\r\n",
    "print('- Finish Task 3: Scrape the URLs')"
   ]
  },
  {
   "cell_type": "code",
   "execution_count": 9,
   "metadata": {},
   "outputs": [
    {
     "name": "stdout",
     "output_type": "stream",
     "text": [
      "Mission Completed!\n"
     ]
    }
   ],
   "source": [
    "# Task 4: Scrape the data of 1 Linkedin profile, and write the data to a .CSV file\n",
    "\n",
    "with open('output.csv', 'w',  newline = '') as file_output:\n",
    "    headers = ['Name', 'Job Title', 'Location', 'URL']\n",
    "    writer = csv.DictWriter(file_output, delimiter=',', lineterminator='\\n',fieldnames=headers)\n",
    "    writer.writeheader()\n",
    "    for linkedin_URL in URLs_all_page:\n",
    "        driver.get(linkedin_URL)\n",
    "        print('- Accessing profile: ', linkedin_URL)\n",
    "\n",
    "        page_source = BeautifulSoup(driver.page_source, \"html.parser\")\n",
    "\n",
    "        info_div = page_source.find('div',{'class':'flex-1 mr5'})\n",
    "        info_loc = info_div.find_all('ul')\n",
    "        name = info_loc[0].find('li').get_text().strip() #Remove unnecessary characters \n",
    "        print('--- Profile name is: ', name)\n",
    "        location = info_loc[1].find('li').get_text().strip() #Remove unnecessary characters \n",
    "        print('--- Profile location is: ', location)\n",
    "        title = info_div.find('h2').get_text().strip()\n",
    "        print('--- Profile title is: ', title)\n",
    "        writer.writerow({headers[0]:name, headers[1]:location, headers[2]:title, headers[3]:linkedin_URL})\n",
    "        print('\\n')\n",
    "\n",
    "print('Mission Completed!')"
   ]
  },
  {
   "cell_type": "code",
   "execution_count": null,
   "metadata": {},
   "outputs": [],
   "source": []
  }
 ],
 "metadata": {
  "kernelspec": {
   "display_name": "Python 3.9.13 64-bit",
   "metadata": {
    "interpreter": {
     "hash": "f4b15ca22223b0c1c642670802e5a159a553b6621a7113af7c9c066ecf82a907"
    }
   },
   "name": "python3"
  },
  "language_info": {
   "codemirror_mode": {
    "name": "ipython",
    "version": 3
   },
   "file_extension": ".py",
   "mimetype": "text/x-python",
   "name": "python",
   "nbconvert_exporter": "python",
   "pygments_lexer": "ipython3",
   "version": "3.9.13"
  }
 },
 "nbformat": 4,
 "nbformat_minor": 4
}